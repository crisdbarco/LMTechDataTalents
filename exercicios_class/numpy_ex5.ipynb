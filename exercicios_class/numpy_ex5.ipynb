{
 "cells": [
  {
   "cell_type": "markdown",
   "metadata": {},
   "source": [
    "## Numpy - Exercício 5"
   ]
  },
  {
   "cell_type": "code",
   "execution_count": 4,
   "metadata": {},
   "outputs": [],
   "source": [
    "import numpy as np"
   ]
  },
  {
   "cell_type": "markdown",
   "metadata": {},
   "source": [
    "### Crie um array com 40 números aleatórios, distribuídos uniformemente, entre [0, 5)."
   ]
  },
  {
   "cell_type": "code",
   "execution_count": 20,
   "metadata": {},
   "outputs": [
    {
     "name": "stdout",
     "output_type": "stream",
     "text": [
      "[2.74406752 3.57594683 3.01381688 2.72441591 2.118274   3.22947057\n",
      " 2.18793606 4.458865   4.8183138  1.91720759 3.95862519 2.6444746\n",
      " 2.84022281 4.62798319 0.35518029 0.4356465  0.10109199 4.16309923\n",
      " 3.89078375 4.35006074 4.89309171 3.99579282 2.30739681 3.90264588\n",
      " 0.59137213 3.19960511 0.71676644 4.72334459 2.60924161 2.0733097\n",
      " 1.32277806 3.87116845 2.28075166 2.84216974 0.093949   3.08817749\n",
      " 3.06047861 3.08466998 4.71874039 3.4091015 ]\n"
     ]
    }
   ],
   "source": [
    "np.random.seed(0)\n",
    "array_randomico = np.random.uniform(0, 5, 40)\n",
    "print(array_randomico)"
   ]
  },
  {
   "cell_type": "markdown",
   "metadata": {},
   "source": [
    "### Para cada elemento do array, calcule:\n",
    "- Seno\n",
    "- Cosseno\n",
    "- Log na base 2"
   ]
  },
  {
   "cell_type": "code",
   "execution_count": 15,
   "metadata": {},
   "outputs": [
    {
     "name": "stdout",
     "output_type": "stream",
     "text": [
      "Seno de cada elemento: [ 0.38713765 -0.42082464  0.12742837  0.40518094  0.8538402  -0.08776485\n",
      "  0.81553704 -0.96803456 -0.99439521  0.94059723 -0.72911815  0.47689441\n",
      "  0.29682859 -0.99643995  0.34775941  0.4219966   0.10091989 -0.85289554\n",
      " -0.68104667 -0.93507411 -0.98371764 -0.75404581  0.74075654 -0.68968448\n",
      "  0.55750066 -0.05797992  0.65695022 -0.99993999  0.50756044  0.87637482\n",
      "  0.96940081 -0.66655347  0.75839099  0.29496884  0.09381086  0.05338977\n",
      "  0.08102512  0.05689193 -0.99997983 -0.26432971]\n"
     ]
    }
   ],
   "source": [
    "print(f\"Seno de cada elemento: {np.sin(array_randomico)}\")"
   ]
  },
  {
   "cell_type": "code",
   "execution_count": 18,
   "metadata": {},
   "outputs": [
    {
     "name": "stdout",
     "output_type": "stream",
     "text": [
      "Cosseno de cada elemento: [-0.92202193 -0.90714201 -0.99184778 -0.91423651 -0.52053522 -0.99614122\n",
      " -0.57870487 -0.25081684  0.10572685 -0.33952445 -0.68438785 -0.87896059\n",
      " -0.95493078 -0.0843056   0.93758381  0.90659741  0.99489456 -0.52208159\n",
      " -0.73224001 -0.35445227  0.17972091 -0.65682183 -0.67177358 -0.72411002\n",
      "  0.8301765  -0.99831775  0.75393396  0.01095539 -0.86161616 -0.48162971\n",
      "  0.24548335 -0.74545723 -0.6517999  -0.95550687  0.99559004 -0.99857375\n",
      " -0.99671206 -0.99838034  0.00635137 -0.96443238]\n"
     ]
    }
   ],
   "source": [
    "print(f\"Cosseno de cada elemento: {np.cos(array_randomico)}\")"
   ]
  },
  {
   "cell_type": "code",
   "execution_count": 19,
   "metadata": {},
   "outputs": [
    {
     "name": "stdout",
     "output_type": "stream",
     "text": [
      "Log na base 2 de cada elemento: [ 1.45631598  1.83832529  1.59159176  1.44594696  1.08288921  1.69129767\n",
      "  1.12957058  2.15667652  2.26852836  0.93900656  1.98499948  1.40298112\n",
      "  1.50600411  2.21038362 -1.49337657 -1.19877015 -3.30625944  2.05765795\n",
      "  1.9600608   2.12103555  2.29074632  1.99848178  1.20626613  1.96445256\n",
      " -0.75786184  1.67789386 -0.48042501  2.23980879  1.38363054  1.05193563\n",
      "  0.40357102  1.95276909  1.18950937  1.50699272 -3.41197835  1.62675567\n",
      "  1.61375729  1.62511615  2.2384018   1.76939155]\n"
     ]
    }
   ],
   "source": [
    "print(f\"Log na base 2 de cada elemento: {np.log2(array_randomico)}\")"
   ]
  }
 ],
 "metadata": {
  "kernelspec": {
   "display_name": "Python 3 (ipykernel)",
   "language": "python",
   "name": "python3"
  },
  "language_info": {
   "codemirror_mode": {
    "name": "ipython",
    "version": 3
   },
   "file_extension": ".py",
   "mimetype": "text/x-python",
   "name": "python",
   "nbconvert_exporter": "python",
   "pygments_lexer": "ipython3",
   "version": "3.11.2"
  },
  "vscode": {
   "interpreter": {
    "hash": "51a8c1f17ad06ff377dc240417a629e760c83b752e2be430c89c1e1bae9f342c"
   }
  }
 },
 "nbformat": 4,
 "nbformat_minor": 2
}
