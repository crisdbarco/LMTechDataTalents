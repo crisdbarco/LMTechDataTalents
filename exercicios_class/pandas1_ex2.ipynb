{
 "cells": [
  {
   "cell_type": "markdown",
   "metadata": {},
   "source": [
    "## Pandas 1 - Exercício 2"
   ]
  },
  {
   "cell_type": "code",
   "execution_count": 11,
   "metadata": {},
   "outputs": [],
   "source": [
    "import pandas as pd"
   ]
  },
  {
   "cell_type": "markdown",
   "metadata": {},
   "source": [
    "##### Uma turma de cinco alunos foi submetida a uma avaliação e a nota de cada um dos alunos é apresentada na tabela abaixo:\n",
    "\n",
    "| Nome do aluno  | Nota |\n",
    "| -------------- | ---- |\n",
    "| Wilfred      \t | 2    |\n",
    "| Abbie\t         | 7    |\n",
    "| Harry\t         | 5.5  |\n",
    "| Julia          | 10   |\n",
    "| Carrie         | 6.2  |"
   ]
  },
  {
   "cell_type": "markdown",
   "metadata": {},
   "source": [
    "##### (a) Crie uma Series com os valores da tabela acima."
   ]
  },
  {
   "cell_type": "code",
   "execution_count": 31,
   "metadata": {},
   "outputs": [
    {
     "data": {
      "text/plain": [
       "Wilfred     2.0\n",
       "Abbie       7.0\n",
       "Harry       5.5\n",
       "Julia      10.0\n",
       "Carrie      6.2\n",
       "dtype: float64"
      ]
     },
     "metadata": {},
     "output_type": "display_data"
    }
   ],
   "source": [
    "notas = {'Wilfred': 2, 'Abbie': 7, 'Harry': 5.5, 'Julia': 10, 'Carrie': 6.2}\n",
    "notas_alunos = pd.Series(data=nota, index=aluno)\n",
    "display(notas_alunos)"
   ]
  },
  {
   "cell_type": "markdown",
   "metadata": {},
   "source": [
    "###### (b) Retorne o número de alunos que foram aprovados (considerando que a nota mínima para a aprovação é 7)."
   ]
  },
  {
   "cell_type": "code",
   "execution_count": 32,
   "metadata": {},
   "outputs": [
    {
     "name": "stdout",
     "output_type": "stream",
     "text": [
      "Número de alunos aprovados: 17\n"
     ]
    }
   ],
   "source": [
    "aprovados = (notas_alunos >= 7)\n",
    "print(f\"Número de alunos aprovados: {int(sum(notas_alunos[aprovados]))}\")"
   ]
  },
  {
   "cell_type": "markdown",
   "metadata": {},
   "source": [
    "###### (c) Qual foi a nota média da turma."
   ]
  },
  {
   "cell_type": "code",
   "execution_count": 33,
   "metadata": {},
   "outputs": [
    {
     "name": "stdout",
     "output_type": "stream",
     "text": [
      "Nota média da turma: 6.14\n"
     ]
    }
   ],
   "source": [
    "print(f\"Nota média da turma: {notas_alunos.mean()}\")"
   ]
  },
  {
   "cell_type": "markdown",
   "metadata": {},
   "source": [
    "###### (d) Obtenha o nome dos alunos que tiraram notas acima da média da turma."
   ]
  },
  {
   "cell_type": "code",
   "execution_count": 35,
   "metadata": {},
   "outputs": [
    {
     "name": "stdout",
     "output_type": "stream",
     "text": [
      "Alunos(as) com nota acima da média da turma: ['Abbie', 'Julia', 'Carrie']\n"
     ]
    }
   ],
   "source": [
    "acima = (notas_alunos >= notas_alunos.mean())\n",
    "print(f\"Alunos(as) com nota acima da média da turma: {notas_alunos[acima].keys().tolist()}\")"
   ]
  }
 ],
 "metadata": {
  "kernelspec": {
   "display_name": "Python 3 (ipykernel)",
   "language": "python",
   "name": "python3"
  },
  "language_info": {
   "codemirror_mode": {
    "name": "ipython",
    "version": 3
   },
   "file_extension": ".py",
   "mimetype": "text/x-python",
   "name": "python",
   "nbconvert_exporter": "python",
   "pygments_lexer": "ipython3",
   "version": "3.11.2"
  }
 },
 "nbformat": 4,
 "nbformat_minor": 2
}
