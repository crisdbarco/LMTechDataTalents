{
 "cells": [
  {
   "cell_type": "markdown",
   "metadata": {},
   "source": [
    "## Pandas 1 - Exercício 4"
   ]
  },
  {
   "cell_type": "code",
   "execution_count": 1,
   "metadata": {},
   "outputs": [],
   "source": [
    "import pandas as pd"
   ]
  },
  {
   "cell_type": "markdown",
   "metadata": {},
   "source": [
    "##### Carregue, em um objeto DataFrame, o arquivo CSV que você salvou no item (f) da questão anterior. Em seguida,"
   ]
  },
  {
   "cell_type": "code",
   "execution_count": 14,
   "metadata": {},
   "outputs": [
    {
     "data": {
      "text/html": [
       "<div>\n",
       "<style scoped>\n",
       "    .dataframe tbody tr th:only-of-type {\n",
       "        vertical-align: middle;\n",
       "    }\n",
       "\n",
       "    .dataframe tbody tr th {\n",
       "        vertical-align: top;\n",
       "    }\n",
       "\n",
       "    .dataframe thead th {\n",
       "        text-align: right;\n",
       "    }\n",
       "</style>\n",
       "<table border=\"1\" class=\"dataframe\">\n",
       "  <thead>\n",
       "    <tr style=\"text-align: right;\">\n",
       "      <th></th>\n",
       "      <th>Peso (kg)</th>\n",
       "      <th>Altura (cm)</th>\n",
       "      <th>IMC</th>\n",
       "    </tr>\n",
       "  </thead>\n",
       "  <tbody>\n",
       "    <tr>\n",
       "      <th>0</th>\n",
       "      <td>72</td>\n",
       "      <td>180</td>\n",
       "      <td>22.222222</td>\n",
       "    </tr>\n",
       "    <tr>\n",
       "      <th>1</th>\n",
       "      <td>80</td>\n",
       "      <td>170</td>\n",
       "      <td>27.681661</td>\n",
       "    </tr>\n",
       "    <tr>\n",
       "      <th>2</th>\n",
       "      <td>60</td>\n",
       "      <td>175</td>\n",
       "      <td>19.591837</td>\n",
       "    </tr>\n",
       "    <tr>\n",
       "      <th>3</th>\n",
       "      <td>90</td>\n",
       "      <td>174</td>\n",
       "      <td>29.726516</td>\n",
       "    </tr>\n",
       "    <tr>\n",
       "      <th>4</th>\n",
       "      <td>100</td>\n",
       "      <td>185</td>\n",
       "      <td>29.218408</td>\n",
       "    </tr>\n",
       "  </tbody>\n",
       "</table>\n",
       "</div>"
      ],
      "text/plain": [
       "   Peso (kg)  Altura (cm)        IMC\n",
       "0         72          180  22.222222\n",
       "1         80          170  27.681661\n",
       "2         60          175  19.591837\n",
       "3         90          174  29.726516\n",
       "4        100          185  29.218408"
      ]
     },
     "execution_count": 14,
     "metadata": {},
     "output_type": "execute_result"
    }
   ],
   "source": [
    "df = pd.read_csv('./arquivos_gerados/imc.csv', sep=',')\n",
    "df"
   ]
  },
  {
   "cell_type": "markdown",
   "metadata": {},
   "source": [
    "##### (a) Crie uma nova coluna que contenha o nome das pessoas (sinta-se à vontade para atribuir os nomes que preferir)."
   ]
  },
  {
   "cell_type": "code",
   "execution_count": 22,
   "metadata": {},
   "outputs": [
    {
     "data": {
      "text/html": [
       "<div>\n",
       "<style scoped>\n",
       "    .dataframe tbody tr th:only-of-type {\n",
       "        vertical-align: middle;\n",
       "    }\n",
       "\n",
       "    .dataframe tbody tr th {\n",
       "        vertical-align: top;\n",
       "    }\n",
       "\n",
       "    .dataframe thead th {\n",
       "        text-align: right;\n",
       "    }\n",
       "</style>\n",
       "<table border=\"1\" class=\"dataframe\">\n",
       "  <thead>\n",
       "    <tr style=\"text-align: right;\">\n",
       "      <th></th>\n",
       "      <th>Nome</th>\n",
       "      <th>Peso (kg)</th>\n",
       "      <th>Altura (cm)</th>\n",
       "      <th>IMC</th>\n",
       "    </tr>\n",
       "  </thead>\n",
       "  <tbody>\n",
       "    <tr>\n",
       "      <th>0</th>\n",
       "      <td>Ted</td>\n",
       "      <td>72</td>\n",
       "      <td>180</td>\n",
       "      <td>22.222222</td>\n",
       "    </tr>\n",
       "    <tr>\n",
       "      <th>1</th>\n",
       "      <td>Lily</td>\n",
       "      <td>80</td>\n",
       "      <td>170</td>\n",
       "      <td>27.681661</td>\n",
       "    </tr>\n",
       "    <tr>\n",
       "      <th>2</th>\n",
       "      <td>Barney</td>\n",
       "      <td>60</td>\n",
       "      <td>175</td>\n",
       "      <td>19.591837</td>\n",
       "    </tr>\n",
       "    <tr>\n",
       "      <th>3</th>\n",
       "      <td>Robin</td>\n",
       "      <td>90</td>\n",
       "      <td>174</td>\n",
       "      <td>29.726516</td>\n",
       "    </tr>\n",
       "    <tr>\n",
       "      <th>4</th>\n",
       "      <td>Marshall</td>\n",
       "      <td>100</td>\n",
       "      <td>185</td>\n",
       "      <td>29.218408</td>\n",
       "    </tr>\n",
       "  </tbody>\n",
       "</table>\n",
       "</div>"
      ],
      "text/plain": [
       "       Nome  Peso (kg)  Altura (cm)        IMC\n",
       "0       Ted         72          180  22.222222\n",
       "1      Lily         80          170  27.681661\n",
       "2    Barney         60          175  19.591837\n",
       "3     Robin         90          174  29.726516\n",
       "4  Marshall        100          185  29.218408"
      ]
     },
     "execution_count": 22,
     "metadata": {},
     "output_type": "execute_result"
    }
   ],
   "source": [
    "df['Nome'] = ['Ted', 'Lily', 'Barney', 'Robin', 'Marshall']\n",
    "df = df[['Nome', 'Peso (kg)', 'Altura (cm)', 'IMC']]\n",
    "df"
   ]
  },
  {
   "cell_type": "markdown",
   "metadata": {},
   "source": [
    "###### (b) Defina a nova coluna criada (com os nomes) como o índice (`index`) do seu DataFrame."
   ]
  },
  {
   "cell_type": "code",
   "execution_count": 27,
   "metadata": {},
   "outputs": [
    {
     "data": {
      "text/html": [
       "<div>\n",
       "<style scoped>\n",
       "    .dataframe tbody tr th:only-of-type {\n",
       "        vertical-align: middle;\n",
       "    }\n",
       "\n",
       "    .dataframe tbody tr th {\n",
       "        vertical-align: top;\n",
       "    }\n",
       "\n",
       "    .dataframe thead th {\n",
       "        text-align: right;\n",
       "    }\n",
       "</style>\n",
       "<table border=\"1\" class=\"dataframe\">\n",
       "  <thead>\n",
       "    <tr style=\"text-align: right;\">\n",
       "      <th></th>\n",
       "      <th>Peso (kg)</th>\n",
       "      <th>Altura (cm)</th>\n",
       "      <th>IMC</th>\n",
       "    </tr>\n",
       "    <tr>\n",
       "      <th>Nome</th>\n",
       "      <th></th>\n",
       "      <th></th>\n",
       "      <th></th>\n",
       "    </tr>\n",
       "  </thead>\n",
       "  <tbody>\n",
       "    <tr>\n",
       "      <th>Ted</th>\n",
       "      <td>72</td>\n",
       "      <td>180</td>\n",
       "      <td>22.222222</td>\n",
       "    </tr>\n",
       "    <tr>\n",
       "      <th>Lily</th>\n",
       "      <td>80</td>\n",
       "      <td>170</td>\n",
       "      <td>27.681661</td>\n",
       "    </tr>\n",
       "    <tr>\n",
       "      <th>Barney</th>\n",
       "      <td>60</td>\n",
       "      <td>175</td>\n",
       "      <td>19.591837</td>\n",
       "    </tr>\n",
       "    <tr>\n",
       "      <th>Robin</th>\n",
       "      <td>90</td>\n",
       "      <td>174</td>\n",
       "      <td>29.726516</td>\n",
       "    </tr>\n",
       "    <tr>\n",
       "      <th>Marshall</th>\n",
       "      <td>100</td>\n",
       "      <td>185</td>\n",
       "      <td>29.218408</td>\n",
       "    </tr>\n",
       "  </tbody>\n",
       "</table>\n",
       "</div>"
      ],
      "text/plain": [
       "          Peso (kg)  Altura (cm)        IMC\n",
       "Nome                                       \n",
       "Ted              72          180  22.222222\n",
       "Lily             80          170  27.681661\n",
       "Barney           60          175  19.591837\n",
       "Robin            90          174  29.726516\n",
       "Marshall        100          185  29.218408"
      ]
     },
     "execution_count": 27,
     "metadata": {},
     "output_type": "execute_result"
    }
   ],
   "source": [
    "df.set_index('Nome')"
   ]
  },
  {
   "cell_type": "markdown",
   "metadata": {},
   "source": [
    "###### (c) Obtenha o nome das pessoas que são classificadas com Sobrepeso (IMC entre 25 e 29,9)."
   ]
  },
  {
   "cell_type": "code",
   "execution_count": 38,
   "metadata": {},
   "outputs": [
    {
     "data": {
      "text/plain": [
       "['Lily', 'Robin', 'Marshall']"
      ]
     },
     "execution_count": 38,
     "metadata": {},
     "output_type": "execute_result"
    }
   ],
   "source": [
    "sobrepeso = (df['IMC'].between(24.9, 29.9))\n",
    "df[sobrepeso]['Nome'].tolist()"
   ]
  }
 ],
 "metadata": {
  "kernelspec": {
   "display_name": "Python 3 (ipykernel)",
   "language": "python",
   "name": "python3"
  },
  "language_info": {
   "codemirror_mode": {
    "name": "ipython",
    "version": 3
   },
   "file_extension": ".py",
   "mimetype": "text/x-python",
   "name": "python",
   "nbconvert_exporter": "python",
   "pygments_lexer": "ipython3",
   "version": "3.11.2"
  }
 },
 "nbformat": 4,
 "nbformat_minor": 2
}
