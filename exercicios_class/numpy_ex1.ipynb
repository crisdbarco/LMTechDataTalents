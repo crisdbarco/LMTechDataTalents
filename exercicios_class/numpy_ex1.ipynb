{
 "cells": [
  {
   "cell_type": "markdown",
   "metadata": {},
   "source": [
    "## Numpy - Exercício 1"
   ]
  },
  {
   "cell_type": "code",
   "execution_count": 4,
   "metadata": {},
   "outputs": [],
   "source": [
    "import numpy as np"
   ]
  },
  {
   "cell_type": "markdown",
   "metadata": {},
   "source": [
    "##### 1-) Crie um array aleatório de 15 itens entre 0 e 100"
   ]
  },
  {
   "cell_type": "code",
   "execution_count": 12,
   "metadata": {},
   "outputs": [
    {
     "name": "stdout",
     "output_type": "stream",
     "text": [
      "Array aleatório: [44 47 64 67 67  9 83 21 36 87 70 88 88 12 58]\n"
     ]
    }
   ],
   "source": [
    "np.random.seed(0)\n",
    "array_aleatorio = np.random.randint(0, 101, 15)\n",
    "print(f\"Array aleatório: {array_aleatorio}\")"
   ]
  },
  {
   "cell_type": "markdown",
   "metadata": {},
   "source": [
    "##### 2-) Qual o maior número do array?"
   ]
  },
  {
   "cell_type": "code",
   "execution_count": 14,
   "metadata": {},
   "outputs": [
    {
     "name": "stdout",
     "output_type": "stream",
     "text": [
      "Maior número do array: 88\n"
     ]
    }
   ],
   "source": [
    "print(f\"Maior número do array: {array_aleatorio.max()}\")"
   ]
  },
  {
   "cell_type": "markdown",
   "metadata": {},
   "source": [
    "##### 3-) Qual a sua posição?"
   ]
  },
  {
   "cell_type": "code",
   "execution_count": 15,
   "metadata": {},
   "outputs": [
    {
     "name": "stdout",
     "output_type": "stream",
     "text": [
      "Posição do maior número do array: 11\n"
     ]
    }
   ],
   "source": [
    "print(f\"Posição do maior número do array: {array_aleatorio.argmax()}\")"
   ]
  },
  {
   "cell_type": "markdown",
   "metadata": {},
   "source": [
    "##### 4-) Quais números do array são maiores que 10?"
   ]
  },
  {
   "cell_type": "code",
   "execution_count": 17,
   "metadata": {},
   "outputs": [
    {
     "name": "stdout",
     "output_type": "stream",
     "text": [
      "[44, 47, 64, 67, 67, 83, 21, 36, 87, 70, 88, 88, 12, 58]\n"
     ]
    }
   ],
   "source": [
    "maiores_que_dez = list(filter(lambda x: x > 10, array_aleatorio))\n",
    "print(maiores_que_dez)"
   ]
  },
  {
   "cell_type": "markdown",
   "metadata": {},
   "source": [
    "##### 5-) Crie um novo array em que existam apenas elementos entre 10 e 30 (10 e 30 inclusos)"
   ]
  },
  {
   "cell_type": "code",
   "execution_count": 19,
   "metadata": {},
   "outputs": [
    {
     "name": "stdout",
     "output_type": "stream",
     "text": [
      "Novo array: [22 25 10 13 13 17 19 29 28 14 16 22 11 16 17]\n"
     ]
    }
   ],
   "source": [
    "np.random.seed(0)\n",
    "novo_array = np.random.randint(10, 31, 15)\n",
    "print(f\"Novo array: {novo_array}\")"
   ]
  },
  {
   "cell_type": "code",
   "execution_count": null,
   "metadata": {},
   "outputs": [],
   "source": []
  }
 ],
 "metadata": {
  "kernelspec": {
   "display_name": "Python 3 (ipykernel)",
   "language": "python",
   "name": "python3"
  },
  "language_info": {
   "codemirror_mode": {
    "name": "ipython",
    "version": 3
   },
   "file_extension": ".py",
   "mimetype": "text/x-python",
   "name": "python",
   "nbconvert_exporter": "python",
   "pygments_lexer": "ipython3",
   "version": "3.11.2"
  },
  "vscode": {
   "interpreter": {
    "hash": "51a8c1f17ad06ff377dc240417a629e760c83b752e2be430c89c1e1bae9f342c"
   }
  }
 },
 "nbformat": 4,
 "nbformat_minor": 2
}
