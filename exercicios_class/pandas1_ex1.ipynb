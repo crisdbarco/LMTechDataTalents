{
 "cells": [
  {
   "cell_type": "markdown",
   "metadata": {},
   "source": [
    "## Pandas 1 - Exercício 1"
   ]
  },
  {
   "cell_type": "code",
   "execution_count": null,
   "metadata": {},
   "outputs": [],
   "source": [
    "import pandas as pd"
   ]
  },
  {
   "cell_type": "markdown",
   "metadata": {},
   "source": [
    "##### Em um concurso público foram contabilizados os números de pessoas inscritas (até a data inicialmente estabelecida para a inscrição) segundo os níveis de escolaridade: fundamental completo, médio completo, superior completo e pós-graduação completa. Segue abaixo a tabela com os valores observados.\n",
    "\n",
    "| Nível de escolaridade\t| Inscritos |\n",
    "| --------------------- | --------- |\n",
    "| Fundamental completo\t| 451       |\n",
    "| Médio completo\t    | 627       |\n",
    "| Superior completo\t    | 292       |\n",
    "| Pós-graduação completa| 95        |\n",
    "\n",
    "Com base na tabela acima, crie uma Series com esses valores e calcule:"
   ]
  },
  {
   "cell_type": "code",
   "execution_count": 10,
   "metadata": {},
   "outputs": [
    {
     "data": {
      "text/plain": [
       "Fundamental completo      451\n",
       "Médio completo            627\n",
       "Superior completo         292\n",
       "Pós-graduação completa     95\n",
       "dtype: int64"
      ]
     },
     "metadata": {},
     "output_type": "display_data"
    }
   ],
   "source": [
    "indices = ['Fundamental completo', 'Médio completo', 'Superior completo', 'Pós-graduação completa']\n",
    "valores = [451,627,292,95]\n",
    "escolaridade = pd.Series(data=valores, index=indices)\n",
    "display(escolaridade)"
   ]
  },
  {
   "cell_type": "markdown",
   "metadata": {},
   "source": [
    "##### (a) O número total de inscritos"
   ]
  },
  {
   "cell_type": "code",
   "execution_count": 18,
   "metadata": {},
   "outputs": [
    {
     "name": "stdout",
     "output_type": "stream",
     "text": [
      "O número total de inscritos é: 1465\n"
     ]
    }
   ],
   "source": [
    "print(f\"O número total de inscritos é: {sum(escolaridade)}\")"
   ]
  },
  {
   "cell_type": "markdown",
   "metadata": {},
   "source": [
    "##### (b) Número inscritos que possuem, pelo menos, o superior completo."
   ]
  },
  {
   "cell_type": "code",
   "execution_count": 19,
   "metadata": {},
   "outputs": [
    {
     "name": "stdout",
     "output_type": "stream",
     "text": [
      "Inscritos com nível superior ou acima: 387\n"
     ]
    }
   ],
   "source": [
    "print(f\"Inscritos com nível superior ou acima: {sum(escolaridade.loc['Superior completo':'Pós-graduação completa'])}\")"
   ]
  },
  {
   "cell_type": "markdown",
   "metadata": {},
   "source": [
    "##### (c) Suponha que a inscrição foi prorrogada e, com isso, foi obtido um número adicional de inscrições: 68, 93, 22 e 0 inscritos a mais em cada uma das categorias de escolaridade apresentados na tabela acima (na mesma ordem). Assim, crie uma nova Series com esses valores."
   ]
  },
  {
   "cell_type": "code",
   "execution_count": 23,
   "metadata": {},
   "outputs": [
    {
     "data": {
      "text/plain": [
       "Fundamental completo      519\n",
       "Médio completo            720\n",
       "Superior completo         314\n",
       "Pós-graduação completa     95\n",
       "dtype: int64"
      ]
     },
     "metadata": {},
     "output_type": "display_data"
    }
   ],
   "source": [
    "novos_inscritos = [68, 93, 22, 0]\n",
    "nova_escolaridade = escolaridade + novos_inscritos\n",
    "display(nova_escolaridade)"
   ]
  },
  {
   "cell_type": "markdown",
   "metadata": {},
   "source": [
    "##### (d) Utilizando as duas Series que você tem, calcule o número total de inscritos após a prorrogação do período de inscrições."
   ]
  },
  {
   "cell_type": "code",
   "execution_count": 25,
   "metadata": {},
   "outputs": [
    {
     "name": "stdout",
     "output_type": "stream",
     "text": [
      "O número total de inscritos após a prorrogação é: 1648\n",
      "O número total de novos inscritos após a prorrogação é: 183\n"
     ]
    }
   ],
   "source": [
    "print(f\"O número total de inscritos após a prorrogação é: {sum(nova_escolaridade)}\")\n",
    "print(f\"O número total de novos inscritos após a prorrogação é: {sum(nova_escolaridade) - sum(escolaridade)}\")"
   ]
  }
 ],
 "metadata": {
  "kernelspec": {
   "display_name": "Python 3 (ipykernel)",
   "language": "python",
   "name": "python3"
  },
  "language_info": {
   "codemirror_mode": {
    "name": "ipython",
    "version": 3
   },
   "file_extension": ".py",
   "mimetype": "text/x-python",
   "name": "python",
   "nbconvert_exporter": "python",
   "pygments_lexer": "ipython3",
   "version": "3.11.2"
  }
 },
 "nbformat": 4,
 "nbformat_minor": 2
}
