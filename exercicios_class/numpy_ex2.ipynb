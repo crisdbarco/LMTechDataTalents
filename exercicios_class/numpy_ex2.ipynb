{
 "cells": [
  {
   "cell_type": "markdown",
   "metadata": {},
   "source": [
    "## Numpy - Exercício 2"
   ]
  },
  {
   "cell_type": "code",
   "execution_count": 1,
   "metadata": {},
   "outputs": [],
   "source": [
    "import numpy as np"
   ]
  },
  {
   "cell_type": "markdown",
   "metadata": {},
   "source": [
    "##### 1-) Crie uma matriz (5, 2) com números igualmente espaçados entre 0 e 100 (utilize o np.linspace)"
   ]
  },
  {
   "cell_type": "code",
   "execution_count": 15,
   "metadata": {},
   "outputs": [
    {
     "name": "stdout",
     "output_type": "stream",
     "text": [
      "[[  0.          11.11111111]\n",
      " [ 22.22222222  33.33333333]\n",
      " [ 44.44444444  55.55555556]\n",
      " [ 66.66666667  77.77777778]\n",
      " [ 88.88888889 100.        ]]\n"
     ]
    }
   ],
   "source": [
    "matriz_5x2 = np.linspace(0,100,10).reshape(5,2)\n",
    "print(matriz_5x2)"
   ]
  },
  {
   "cell_type": "markdown",
   "metadata": {},
   "source": [
    "##### 2-) Qual o maior valor da matriz?"
   ]
  },
  {
   "cell_type": "code",
   "execution_count": 19,
   "metadata": {},
   "outputs": [
    {
     "name": "stdout",
     "output_type": "stream",
     "text": [
      "O maior valor da matriz é: 100.0\n"
     ]
    }
   ],
   "source": [
    "print(f\"O maior valor da matriz é: {matriz_5x2.max()}\")"
   ]
  },
  {
   "cell_type": "markdown",
   "metadata": {},
   "source": [
    "##### 3-) Qual o valor máximo por linha?"
   ]
  },
  {
   "cell_type": "code",
   "execution_count": 20,
   "metadata": {},
   "outputs": [
    {
     "name": "stdout",
     "output_type": "stream",
     "text": [
      "O valor máximo por linha é: [ 11.11111111  33.33333333  55.55555556  77.77777778 100.        ]\n"
     ]
    }
   ],
   "source": [
    "print(f\"O valor máximo por linha é: {matriz_5x2.max(axis=1)}\")"
   ]
  },
  {
   "cell_type": "markdown",
   "metadata": {},
   "source": [
    "##### 4-) Qual o valor máximo por coluna?"
   ]
  },
  {
   "cell_type": "code",
   "execution_count": 22,
   "metadata": {},
   "outputs": [
    {
     "name": "stdout",
     "output_type": "stream",
     "text": [
      "O valor máximo por coluna é: [ 88.88888889 100.        ]\n"
     ]
    }
   ],
   "source": [
    "print(f\"O valor máximo por coluna é: {matriz_5x2.max(axis=0)}\")"
   ]
  },
  {
   "cell_type": "markdown",
   "metadata": {},
   "source": [
    "##### 5-) Qual a média por linha?"
   ]
  },
  {
   "cell_type": "code",
   "execution_count": 23,
   "metadata": {},
   "outputs": [
    {
     "name": "stdout",
     "output_type": "stream",
     "text": [
      "A média por linha é: [ 5.55555556 27.77777778 50.         72.22222222 94.44444444]\n"
     ]
    }
   ],
   "source": [
    "print(f\"A média por linha é: {matriz_5x2.mean(axis=1)}\")"
   ]
  },
  {
   "cell_type": "markdown",
   "metadata": {},
   "source": [
    "##### 6-) Qual a média da matriz?"
   ]
  },
  {
   "cell_type": "code",
   "execution_count": 24,
   "metadata": {},
   "outputs": [
    {
     "name": "stdout",
     "output_type": "stream",
     "text": [
      "A média por coluna é: [44.44444444 55.55555556]\n"
     ]
    }
   ],
   "source": [
    "print(f\"A média por coluna é: {matriz_5x2.mean(axis=0)}\")"
   ]
  }
 ],
 "metadata": {
  "kernelspec": {
   "display_name": "Python 3 (ipykernel)",
   "language": "python",
   "name": "python3"
  },
  "language_info": {
   "codemirror_mode": {
    "name": "ipython",
    "version": 3
   },
   "file_extension": ".py",
   "mimetype": "text/x-python",
   "name": "python",
   "nbconvert_exporter": "python",
   "pygments_lexer": "ipython3",
   "version": "3.11.2"
  },
  "vscode": {
   "interpreter": {
    "hash": "51a8c1f17ad06ff377dc240417a629e760c83b752e2be430c89c1e1bae9f342c"
   }
  }
 },
 "nbformat": 4,
 "nbformat_minor": 2
}
