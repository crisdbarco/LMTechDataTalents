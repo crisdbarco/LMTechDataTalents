{
 "cells": [
  {
   "cell_type": "markdown",
   "metadata": {},
   "source": [
    "## Numpy - Exercício 4"
   ]
  },
  {
   "cell_type": "code",
   "execution_count": 1,
   "metadata": {},
   "outputs": [],
   "source": [
    "import numpy as np"
   ]
  },
  {
   "cell_type": "markdown",
   "metadata": {},
   "source": [
    "### Transforme o array em uma matriz 4 por 3 utilizando numpy."
   ]
  },
  {
   "cell_type": "markdown",
   "metadata": {},
   "source": [
    "##### arr = [1, 2, 3, 4, 'Amelia', 'Bruna', 'Carolina', 'Débora', True, False, False, True]"
   ]
  },
  {
   "cell_type": "code",
   "execution_count": 4,
   "metadata": {},
   "outputs": [
    {
     "name": "stdout",
     "output_type": "stream",
     "text": [
      "[['1' '2' '3']\n",
      " ['4' 'Amelia' 'Bruna']\n",
      " ['Carolina' 'Débora' 'True']\n",
      " ['False' 'False' 'True']]\n"
     ]
    }
   ],
   "source": [
    "arr = np.array([1, 2, 3, 4, 'Amelia', 'Bruna', 'Carolina', 'Débora', True, False, False, True])\n",
    "\n",
    "\n",
    "arr_4x3 = arr.reshape(4,3)\n",
    "print(arr_4x3)"
   ]
  },
  {
   "cell_type": "markdown",
   "metadata": {},
   "source": [
    "### Depois, faça o mesmo para uma matriz 3 por 4."
   ]
  },
  {
   "cell_type": "code",
   "execution_count": 5,
   "metadata": {},
   "outputs": [
    {
     "name": "stdout",
     "output_type": "stream",
     "text": [
      "[['1' '2' '3' '4']\n",
      " ['Amelia' 'Bruna' 'Carolina' 'Débora']\n",
      " ['True' 'False' 'False' 'True']]\n"
     ]
    }
   ],
   "source": [
    "arr_3x4 = arr.reshape(3,4)\n",
    "print(arr_3x4)"
   ]
  }
 ],
 "metadata": {
  "kernelspec": {
   "display_name": "Python 3 (ipykernel)",
   "language": "python",
   "name": "python3"
  },
  "language_info": {
   "codemirror_mode": {
    "name": "ipython",
    "version": 3
   },
   "file_extension": ".py",
   "mimetype": "text/x-python",
   "name": "python",
   "nbconvert_exporter": "python",
   "pygments_lexer": "ipython3",
   "version": "3.11.2"
  },
  "vscode": {
   "interpreter": {
    "hash": "51a8c1f17ad06ff377dc240417a629e760c83b752e2be430c89c1e1bae9f342c"
   }
  }
 },
 "nbformat": 4,
 "nbformat_minor": 2
}
